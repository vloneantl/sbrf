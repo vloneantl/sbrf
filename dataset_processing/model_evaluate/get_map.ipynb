{
 "cells": [
  {
   "cell_type": "code",
   "execution_count": 33,
   "id": "71ac21d0-36a8-4eb9-8ddd-f6af35c9b874",
   "metadata": {},
   "outputs": [],
   "source": [
    "import os\n",
    "from pycocotools.coco import COCO\n",
    "from pycocotools.cocoeval import COCOeval\n",
    "import json\n",
    "import fiftyone as fo\n",
    "annType = 'bbox'"
   ]
  },
  {
   "cell_type": "code",
   "execution_count": 54,
   "id": "b575de9b-7291-487a-9b75-35e410bbbf5e",
   "metadata": {},
   "outputs": [
    {
     "name": "stdout",
     "output_type": "stream",
     "text": []
    },
    {
     "name": "stdout",
     "output_type": "stream",
     "text": [
      " 100% |█████████████████| 968/968 [2.2s elapsed, 0s remaining, 428.0 samples/s]      \n",
      "Directory '/Users/antonlukanov/Desktop/Sber/model_evaluate/detectnet_1609/' already exists; export will be merged with existing files\n",
      " 100% |█████████████████| 968/968 [1.6s elapsed, 0s remaining, 629.7 samples/s]         \n"
     ]
    }
   ],
   "source": [
    "#конвертим в коко\n",
    "data_path = \"/Users/antonlukanov/Desktop/Sber/Detectnetv2_data/data_for_train/kitti_resized_480_272/val/data\"\n",
    "# The path to labels\n",
    "labels_path = \"/Users/antonlukanov/Desktop/Sber/model_evaluate/detectnet_1609/labels\"\n",
    "# Import the dataset\n",
    "dataset = fo.Dataset.from_dir(\n",
    "    dataset_type=fo.types.KITTIDetectionDataset,\n",
    "    data_path=data_path,\n",
    "    labels_path=labels_path,\n",
    ")\n",
    "# The directory to which to write the exported dataset\n",
    "export_dir = \"/Users/antonlukanov/Desktop/Sber/model_evaluate/detectnet_1609/\"\n",
    "# The name of the sample field containing the label that you wish to export\n",
    "# Used when exporting labeled datasets (e.g., classification or detection)\n",
    "label_field = \"ground_truth\"  # for example\n",
    "# The type of dataset to export\n",
    "# Any subclass of `fiftyone.types.Dataset` is supported\n",
    "dataset_type = fo.types.COCODetectionDataset  # for example\n",
    "# Export the dataset\n",
    "dataset.export(\n",
    "    export_dir=export_dir,\n",
    "    dataset_type=dataset_type,\n",
    "    label_field=label_field,\n",
    ")"
   ]
  },
  {
   "cell_type": "code",
   "execution_count": 55,
   "id": "44f474b0-9108-4f2d-a9b5-b7364d2910c6",
   "metadata": {},
   "outputs": [
    {
     "name": "stdout",
     "output_type": "stream",
     "text": [
      "loading annotations into memory...\n",
      "Done (t=0.03s)\n",
      "creating index...\n",
      "index created!\n",
      "/Users/antonlukanov/Desktop/Sber/model_evaluate/detectnet_1609//labels.json\n",
      "Loading and preparing results...\n",
      "DONE (t=0.00s)\n",
      "creating index...\n",
      "index created!\n",
      "Running per image evaluation...\n",
      "Evaluate annotation type *bbox*\n",
      "DONE (t=0.77s).\n",
      "Accumulating evaluation results...\n",
      "DONE (t=0.14s).\n",
      " Average Precision  (AP) @[ IoU=0.50:0.95 | area=   all | maxDets=100 ] = 0.351\n",
      " Average Precision  (AP) @[ IoU=0.50      | area=   all | maxDets=100 ] = 0.567\n",
      " Average Precision  (AP) @[ IoU=0.75      | area=   all | maxDets=100 ] = 0.387\n",
      " Average Precision  (AP) @[ IoU=0.50:0.95 | area= small | maxDets=100 ] = 0.098\n",
      " Average Precision  (AP) @[ IoU=0.50:0.95 | area=medium | maxDets=100 ] = 0.401\n",
      " Average Precision  (AP) @[ IoU=0.50:0.95 | area= large | maxDets=100 ] = 0.604\n",
      " Average Recall     (AR) @[ IoU=0.50:0.95 | area=   all | maxDets=  1 ] = 0.254\n",
      " Average Recall     (AR) @[ IoU=0.50:0.95 | area=   all | maxDets= 10 ] = 0.397\n",
      " Average Recall     (AR) @[ IoU=0.50:0.95 | area=   all | maxDets=100 ] = 0.398\n",
      " Average Recall     (AR) @[ IoU=0.50:0.95 | area= small | maxDets=100 ] = 0.123\n",
      " Average Recall     (AR) @[ IoU=0.50:0.95 | area=medium | maxDets=100 ] = 0.464\n",
      " Average Recall     (AR) @[ IoU=0.50:0.95 | area= large | maxDets=100 ] = 0.672\n",
      "0.3505143690470334\n",
      "0.3505143690470334 0.5666236119629282\n"
     ]
    }
   ],
   "source": [
    "json_path = '/Users/antonlukanov/Desktop/Sber/model_evaluate/'\n",
    "\n",
    "true_json = 'coco_dataset/labels.json'\n",
    "res_json = export_dir + '/labels.json' \n",
    "\n",
    "path_to_annotation = os.path.join(json_path, true_json)\n",
    "\n",
    "cocoGt = COCO(path_to_annotation)\n",
    "print(os.path.join(json_path, res_json))\n",
    "\n",
    "dts = json.load(open(os.path.join(json_path, res_json), 'r'))\n",
    "\n",
    "cocoDt = cocoGt.loadRes(dts['annotations'])\n",
    "\n",
    "cocoEval = COCOeval(cocoGt, cocoDt, annType)\n",
    "cocoEval.params.catIds = [0,1,2,3]\n",
    "\n",
    "cocoEval.evaluate()\n",
    "cocoEval.accumulate()\n",
    "\n",
    "cocoEval.summarize()\n",
    "\n",
    "mean_ap = cocoEval.stats[0].item()  # stats[0] records AP@[0.5:0.95]\n",
    "print(mean_ap)\n",
    "mAP, map50 = cocoEval.stats[:2]\n",
    "print(mAP, map50)"
   ]
  },
  {
   "cell_type": "code",
   "execution_count": null,
   "id": "dc96fa48-b72a-44e8-bfa6-ff18293c0901",
   "metadata": {},
   "outputs": [],
   "source": []
  }
 ],
 "metadata": {
  "kernelspec": {
   "display_name": "Python 3 (ipykernel)",
   "language": "python",
   "name": "python3"
  },
  "language_info": {
   "codemirror_mode": {
    "name": "ipython",
    "version": 3
   },
   "file_extension": ".py",
   "mimetype": "text/x-python",
   "name": "python",
   "nbconvert_exporter": "python",
   "pygments_lexer": "ipython3",
   "version": "3.9.12"
  }
 },
 "nbformat": 4,
 "nbformat_minor": 5
}
